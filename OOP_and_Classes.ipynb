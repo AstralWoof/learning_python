{
 "cells": [
  {
   "cell_type": "code",
   "execution_count": 44,
   "metadata": {},
   "outputs": [],
   "source": [
    "# day 5 Of Code \n",
    "# Classes and OOP \n",
    "import pprint\n",
    "import random"
   ]
  },
  {
   "cell_type": "code",
   "execution_count": 2,
   "metadata": {},
   "outputs": [],
   "source": [
    "my_suit = (\"Heart\",\"Spades\",\"Clover\",\"Diamond\")\n",
    "my_deck  = {\"Ace\":1,\"Two\": 2, \"Three\" : 3, \"Four\": 4, \"Five\": 5, \"Six\": 6, \"Seven\": 7, \"Eight\":8, \"Nine\": 9, \"Ten\":10,\"Jack\": 11 , \"Queen\": 12, \"King\":13 }"
   ]
  },
  {
   "cell_type": "code",
   "execution_count": 25,
   "metadata": {},
   "outputs": [],
   "source": [
    "class Card:\n",
    "    number = 0 \n",
    "    suit = \" \"\n",
    "    strNum = \"\"\n",
    "    cardName = \"\"\n",
    "    def __init__(self,suit,strNum,number): # is used as a constructor and to set values \n",
    "        \"\"\"\n",
    "         This function will create the card by taking in a suit string number and a number \n",
    "        \"\"\"\n",
    "        self.suit = suit\n",
    "        self.sn = strNum\n",
    "        self.num = number\n",
    "        self.name = strNum + \" of \" +self.suit\n",
    "    def __str__(self): # this will allow you to print out the data stored in the class when used in print function\n",
    "        \"\"\"\n",
    "        Return a string so the class can have a return type \n",
    "        \"\"\"\n",
    "        return f\"{self.name}\"\n",
    "        "
   ]
  },
  {
   "cell_type": "code",
   "execution_count": 49,
   "metadata": {},
   "outputs": [],
   "source": [
    "class Deck: # will make a class that will use our card class to construct a deck of cards \n",
    "  \n",
    "    def __init__(self): # will take in my tuple and my \n",
    "        \"\"\"\n",
    "        This will make the deck and fill up a list and dictonary \n",
    "        \n",
    "        \"\"\"\n",
    "        self.current_deck = {}\n",
    "        self.deck_ls = []\n",
    "        for suit in my_suit: # this will loop through each suit in my tuples\n",
    "            for k,v in my_deck.items(): # will loop through our dictonary of carda and values\n",
    "                self.make_card = Card(suit,k,v) # creat the card\n",
    "                print(self.make_card)\n",
    "                self.deck_ls.append(self.make_card)\n",
    "                self.current_deck[self.make_card] = v\n",
    "        \n",
    "       \n",
    "    def __str__(self):\n",
    "        \n",
    "        return f\"{self.make_card}\"\n",
    "        \n",
    "    def getAmount(self):\n",
    "        \n",
    "        return len(self.deck_ls)\n",
    "        \n",
    "    def drawCard(self):\n",
    "        \n",
    "        return self.deck_ls.pop()\n",
    "    \n",
    "    def shuffleDeck(self):\n",
    "        return random.shuffle(self.deck_ls)"
   ]
  },
  {
   "cell_type": "code",
   "execution_count": null,
   "metadata": {},
   "outputs": [],
   "source": [
    "class Hand:\n",
    "    pass"
   ]
  },
  {
   "cell_type": "code",
   "execution_count": null,
   "metadata": {
    "scrolled": true
   },
   "outputs": [],
   "source": [
    " print(x)"
   ]
  },
  {
   "cell_type": "code",
   "execution_count": null,
   "metadata": {},
   "outputs": [],
   "source": [
    "the_deck = {}\n",
    "for card in my_suit:\n",
    "    for k,v in my_deck.items():\n",
    "        make_card = Card(card,k,v)\n",
    "        the_deck[make_card] = v\n",
    "        "
   ]
  },
  {
   "cell_type": "code",
   "execution_count": null,
   "metadata": {},
   "outputs": [],
   "source": [
    "for i in the_deck.keys():\n",
    "    print(i)"
   ]
  },
  {
   "cell_type": "code",
   "execution_count": 50,
   "metadata": {},
   "outputs": [
    {
     "name": "stdout",
     "output_type": "stream",
     "text": [
      "Ace of Heart\n",
      "Two of Heart\n",
      "Three of Heart\n",
      "Four of Heart\n",
      "Five of Heart\n",
      "Six of Heart\n",
      "Seven of Heart\n",
      "Eight of Heart\n",
      "Nine of Heart\n",
      "Ten of Heart\n",
      "Jack of Heart\n",
      "Queen of Heart\n",
      "King of Heart\n",
      "Ace of Spades\n",
      "Two of Spades\n",
      "Three of Spades\n",
      "Four of Spades\n",
      "Five of Spades\n",
      "Six of Spades\n",
      "Seven of Spades\n",
      "Eight of Spades\n",
      "Nine of Spades\n",
      "Ten of Spades\n",
      "Jack of Spades\n",
      "Queen of Spades\n",
      "King of Spades\n",
      "Ace of Clover\n",
      "Two of Clover\n",
      "Three of Clover\n",
      "Four of Clover\n",
      "Five of Clover\n",
      "Six of Clover\n",
      "Seven of Clover\n",
      "Eight of Clover\n",
      "Nine of Clover\n",
      "Ten of Clover\n",
      "Jack of Clover\n",
      "Queen of Clover\n",
      "King of Clover\n",
      "Ace of Diamond\n",
      "Two of Diamond\n",
      "Three of Diamond\n",
      "Four of Diamond\n",
      "Five of Diamond\n",
      "Six of Diamond\n",
      "Seven of Diamond\n",
      "Eight of Diamond\n",
      "Nine of Diamond\n",
      "Ten of Diamond\n",
      "Jack of Diamond\n",
      "Queen of Diamond\n",
      "King of Diamond\n"
     ]
    }
   ],
   "source": [
    "y = Deck()"
   ]
  },
  {
   "cell_type": "code",
   "execution_count": 24,
   "metadata": {},
   "outputs": [
    {
     "name": "stdout",
     "output_type": "stream",
     "text": [
      "52\n"
     ]
    }
   ],
   "source": [
    "print(len(y.deck_ls))\n",
    "if y.deck_ls[1] == y.deck_ls[2]:\n",
    "    print(\"True\")"
   ]
  },
  {
   "cell_type": "code",
   "execution_count": 28,
   "metadata": {},
   "outputs": [
    {
     "name": "stdout",
     "output_type": "stream",
     "text": [
      "Ace of Heart\n",
      "Two of Heart\n",
      "Three of Heart\n",
      "Four of Heart\n",
      "Five of Heart\n",
      "Six of Heart\n",
      "Seven of Heart\n",
      "Eight of Heart\n",
      "Nine of Heart\n",
      "Ten of Heart\n",
      "Jack of Heart\n",
      "Queen of Heart\n",
      "King of Heart\n",
      "Ace of Spades\n",
      "Two of Spades\n",
      "Three of Spades\n",
      "Four of Spades\n",
      "Five of Spades\n",
      "Six of Spades\n",
      "Seven of Spades\n",
      "Eight of Spades\n",
      "Nine of Spades\n",
      "Ten of Spades\n",
      "Jack of Spades\n",
      "Queen of Spades\n",
      "King of Spades\n",
      "Ace of Clover\n",
      "Two of Clover\n",
      "Three of Clover\n",
      "Four of Clover\n",
      "Five of Clover\n",
      "Six of Clover\n",
      "Seven of Clover\n",
      "Eight of Clover\n",
      "Nine of Clover\n",
      "Ten of Clover\n",
      "Jack of Clover\n",
      "Queen of Clover\n",
      "King of Clover\n",
      "Ace of Diamond\n",
      "Two of Diamond\n",
      "Three of Diamond\n",
      "Four of Diamond\n",
      "Five of Diamond\n",
      "Six of Diamond\n",
      "Seven of Diamond\n",
      "Eight of Diamond\n",
      "Nine of Diamond\n",
      "Ten of Diamond\n",
      "Jack of Diamond\n",
      "Queen of Diamond\n",
      "King of Diamond\n"
     ]
    }
   ],
   "source": [
    "for k in y.deck_ls:\n",
    "    print(k)"
   ]
  },
  {
   "cell_type": "code",
   "execution_count": 53,
   "metadata": {},
   "outputs": [
    {
     "name": "stdout",
     "output_type": "stream",
     "text": [
      "Ace of Heart, 1\n",
      "Two of Heart, 2\n",
      "Three of Heart, 3\n",
      "Four of Heart, 4\n",
      "Five of Heart, 5\n",
      "Six of Heart, 6\n",
      "Seven of Heart, 7\n",
      "Eight of Heart, 8\n",
      "Nine of Heart, 9\n",
      "Ten of Heart, 10\n",
      "Jack of Heart, 11\n",
      "Queen of Heart, 12\n",
      "King of Heart, 13\n",
      "Ace of Spades, 1\n",
      "Two of Spades, 2\n",
      "Three of Spades, 3\n",
      "Four of Spades, 4\n",
      "Five of Spades, 5\n",
      "Six of Spades, 6\n",
      "Seven of Spades, 7\n",
      "Eight of Spades, 8\n",
      "Nine of Spades, 9\n",
      "Ten of Spades, 10\n",
      "Jack of Spades, 11\n",
      "Queen of Spades, 12\n",
      "King of Spades, 13\n",
      "Ace of Clover, 1\n",
      "Two of Clover, 2\n",
      "Three of Clover, 3\n",
      "Four of Clover, 4\n",
      "Five of Clover, 5\n",
      "Six of Clover, 6\n",
      "Seven of Clover, 7\n",
      "Eight of Clover, 8\n",
      "Nine of Clover, 9\n",
      "Ten of Clover, 10\n",
      "Jack of Clover, 11\n",
      "Queen of Clover, 12\n",
      "King of Clover, 13\n",
      "Ace of Diamond, 1\n",
      "Two of Diamond, 2\n",
      "Three of Diamond, 3\n",
      "Four of Diamond, 4\n",
      "Five of Diamond, 5\n",
      "Six of Diamond, 6\n",
      "Seven of Diamond, 7\n",
      "Eight of Diamond, 8\n",
      "Nine of Diamond, 9\n",
      "Ten of Diamond, 10\n",
      "Jack of Diamond, 11\n",
      "Queen of Diamond, 12\n",
      "King of Diamond, 13\n"
     ]
    }
   ],
   "source": [
    "for k,v in y.current_deck.items():\n",
    "    print(f\"{k}, {v}\")"
   ]
  },
  {
   "cell_type": "code",
   "execution_count": 51,
   "metadata": {},
   "outputs": [
    {
     "data": {
      "text/plain": [
       "52"
      ]
     },
     "execution_count": 51,
     "metadata": {},
     "output_type": "execute_result"
    }
   ],
   "source": [
    "y.getAmount()"
   ]
  },
  {
   "cell_type": "code",
   "execution_count": 42,
   "metadata": {},
   "outputs": [],
   "source": [
    "b = y.drawCard()"
   ]
  },
  {
   "cell_type": "code",
   "execution_count": 52,
   "metadata": {},
   "outputs": [],
   "source": [
    "y.shuffleDeck()"
   ]
  },
  {
   "cell_type": "code",
   "execution_count": 55,
   "metadata": {},
   "outputs": [
    {
     "name": "stdout",
     "output_type": "stream",
     "text": [
      "Three of Spades\n",
      "Nine of Heart\n",
      "Ace of Heart\n",
      "King of Spades\n",
      "Eight of Spades\n",
      "Five of Heart\n",
      "Queen of Diamond\n",
      "King of Heart\n",
      "Five of Diamond\n",
      "Ace of Diamond\n",
      "Ten of Spades\n",
      "Nine of Spades\n",
      "Eight of Diamond\n",
      "Ten of Heart\n",
      "Jack of Clover\n",
      "Six of Clover\n",
      "Two of Clover\n",
      "Nine of Clover\n",
      "Four of Heart\n",
      "Seven of Heart\n",
      "Five of Clover\n",
      "Two of Heart\n",
      "Jack of Spades\n",
      "King of Diamond\n",
      "Seven of Clover\n",
      "Queen of Heart\n",
      "Three of Clover\n",
      "Ace of Clover\n",
      "Two of Diamond\n",
      "Seven of Diamond\n",
      "Queen of Clover\n",
      "Five of Spades\n",
      "Nine of Diamond\n",
      "Jack of Diamond\n",
      "Six of Diamond\n",
      "Eight of Clover\n",
      "Ten of Clover\n",
      "Six of Heart\n",
      "Four of Spades\n",
      "Ace of Spades\n",
      "Three of Heart\n",
      "Ten of Diamond\n",
      "King of Clover\n",
      "Six of Spades\n",
      "Four of Diamond\n",
      "Three of Diamond\n",
      "Two of Spades\n",
      "Eight of Heart\n",
      "Jack of Heart\n",
      "Queen of Spades\n",
      "Seven of Spades\n",
      "Four of Clover\n"
     ]
    }
   ],
   "source": [
    "for i in y.deck_ls:\n",
    "    print(i)"
   ]
  },
  {
   "cell_type": "code",
   "execution_count": null,
   "metadata": {},
   "outputs": [],
   "source": []
  }
 ],
 "metadata": {
  "kernelspec": {
   "display_name": "Python 3",
   "language": "python",
   "name": "python3"
  },
  "language_info": {
   "codemirror_mode": {
    "name": "ipython",
    "version": 3
   },
   "file_extension": ".py",
   "mimetype": "text/x-python",
   "name": "python",
   "nbconvert_exporter": "python",
   "pygments_lexer": "ipython3",
   "version": "3.7.6"
  }
 },
 "nbformat": 4,
 "nbformat_minor": 4
}
