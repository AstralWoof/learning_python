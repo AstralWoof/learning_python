{
 "cells": [
  {
   "cell_type": "code",
   "execution_count": null,
   "metadata": {},
   "outputs": [],
   "source": [
    "# day 2 of code \n",
    "# 7/8/2021\n",
    "# reading and writing files with os module "
   ]
  },
  {
   "cell_type": "code",
   "execution_count": null,
   "metadata": {},
   "outputs": [],
   "source": [
    "import os"
   ]
  },
  {
   "cell_type": "code",
   "execution_count": null,
   "metadata": {},
   "outputs": [],
   "source": [
    "#will print current working directory / file user is currently in \n",
    "os.getcwd()"
   ]
  },
  {
   "cell_type": "code",
   "execution_count": null,
   "metadata": {},
   "outputs": [],
   "source": [
    "#this function will list all the files in the current working directory this will return a list\n",
    "os.listdir()"
   ]
  },
  {
   "cell_type": "code",
   "execution_count": null,
   "metadata": {},
   "outputs": [],
   "source": [
    "for i in os.listdir():\n",
    "    print(i)"
   ]
  },
  {
   "cell_type": "code",
   "execution_count": null,
   "metadata": {},
   "outputs": [],
   "source": [
    "# make a text file and write it to my cwdir \n",
    "\n",
    "# create a file object that takes a name and an action\n",
    "my_file = open(\"my_text.txt\",\"w+\")\n",
    "# loop though our file and write \n",
    "for i in range(25):\n",
    "    my_file.write(f\"This is line: {i+1}\\n\")\n",
    "my_file.close()    # all files must be cloesed after opening "
   ]
  },
  {
   "cell_type": "code",
   "execution_count": null,
   "metadata": {},
   "outputs": [],
   "source": [
    "# reading a file tha has been wrote \n",
    "# will write whole file out \n",
    "read_file = open(\"my_text.txt\",\"r\")\n",
    "if read_file.mode == \"r\":\n",
    "    content = read_file.read()\n",
    "    print(content)"
   ]
  },
  {
   "cell_type": "code",
   "execution_count": null,
   "metadata": {},
   "outputs": [],
   "source": [
    "# will return the line one by one \n",
    "read_file= open('my_text.txt','r')\n",
    "f1 = read_file.readlines()\n",
    "for i in f1:\n",
    "    print(i)"
   ]
  },
  {
   "cell_type": "code",
   "execution_count": null,
   "metadata": {},
   "outputs": [],
   "source": [
    "# make a program that save birthdays into a text file \n",
    "# then use function to read and write them \n",
    "#  added doc string\n",
    "\n",
    "# prototype project program for storing birthdays and saving to files \n",
    "def get_Bday(bday):\n",
    "    \"\"\"\n",
    "     This will fill a dictonary of names and birthdays \n",
    "    \n",
    "    \"\"\"\n",
    "    while True:\n",
    "        name = \"\"\n",
    "\n",
    "        print(\"Enter a name or leave blank to quit:\")\n",
    "        name = input()\n",
    "        if(name == \"\"):\n",
    "            break\n",
    "        elif(name != \"\"):\n",
    "            print(f\"what is the month and day of birth:\")\n",
    "            birth_info = input()\n",
    "        bday[name] = birth_info    \n",
    "        \n",
    "def write_Bdays(file, dic):\n",
    "    \"\"\"\n",
    "     This function will take in a file and a dictionary , then write the dict to file \n",
    "    \"\"\"\n",
    "    pass\n",
    "\n",
    "def make_file():\n",
    "    \"\"\"\n",
    "     This function will make a file \n",
    "    \n",
    "    \"\"\"\n",
    "    print(\"Name the file u wish to create\")\n",
    "    fname = input()\n",
    "    exten = \".txt\"\n",
    "    return f\"{fname}{exten}\""
   ]
  },
  {
   "cell_type": "code",
   "execution_count": null,
   "metadata": {},
   "outputs": [],
   "source": [
    "f2 = make_file()\n",
    "print(f2)"
   ]
  },
  {
   "cell_type": "code",
   "execution_count": null,
   "metadata": {},
   "outputs": [],
   "source": [
    "my_dic = {}\n",
    "get_Bday(my_dic)"
   ]
  },
  {
   "cell_type": "code",
   "execution_count": null,
   "metadata": {},
   "outputs": [],
   "source": [
    "print(my_dic)"
   ]
  },
  {
   "cell_type": "code",
   "execution_count": null,
   "metadata": {},
   "outputs": [],
   "source": [
    "len(my_dic)"
   ]
  },
  {
   "cell_type": "code",
   "execution_count": null,
   "metadata": {},
   "outputs": [],
   "source": [
    "my_bday = open(\"bday_ex.txt\",\"w+\")"
   ]
  },
  {
   "cell_type": "code",
   "execution_count": null,
   "metadata": {},
   "outputs": [],
   "source": [
    "# this will be my write to file first time \n",
    "count = 0\n",
    "for k,v in my_dic.items():\n",
    "    count += 1\n",
    "    my_bday.writelines(f\"Line {count}, {k}, {v}\")\n",
    "my_bday.close()    "
   ]
  },
  {
   "cell_type": "code",
   "execution_count": null,
   "metadata": {},
   "outputs": [],
   "source": [
    "# this will be my function that read the files to me \n",
    "bday = open(\"bday_ex.txt\",\"r\")\n",
    "f2 = bday.readlines()\n",
    "for read in f2:\n",
    "    print(read)\n",
    "bday.close()    "
   ]
  },
  {
   "cell_type": "code",
   "execution_count": null,
   "metadata": {},
   "outputs": [],
   "source": [
    "# this function will be what appends new names and bdays to file\n",
    "b = open(\"bday_ex.txt\",\"a+\")\n",
    "get_Bday(my_dic)\n"
   ]
  }
 ],
 "metadata": {
  "kernelspec": {
   "display_name": "Python 3",
   "language": "python",
   "name": "python3"
  },
  "language_info": {
   "codemirror_mode": {
    "name": "ipython",
    "version": 3
   },
   "file_extension": ".py",
   "mimetype": "text/x-python",
   "name": "python",
   "nbconvert_exporter": "python",
   "pygments_lexer": "ipython3",
   "version": "3.7.6"
  }
 },
 "nbformat": 4,
 "nbformat_minor": 4
}
