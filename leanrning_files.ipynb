{
 "cells": [
  {
   "cell_type": "code",
   "execution_count": null,
   "metadata": {},
   "outputs": [],
   "source": [
    "# day 2 of code \n",
    "# 7/8/2021\n",
    "# reading and writing files with os module "
   ]
  },
  {
   "cell_type": "code",
   "execution_count": 1,
   "metadata": {},
   "outputs": [],
   "source": [
    "import os"
   ]
  },
  {
   "cell_type": "code",
   "execution_count": 3,
   "metadata": {},
   "outputs": [
    {
     "data": {
      "text/plain": [
       "'C:\\\\Users\\\\Aim4t\\\\Desktop\\\\my_python'"
      ]
     },
     "execution_count": 3,
     "metadata": {},
     "output_type": "execute_result"
    }
   ],
   "source": [
    "#will print current working directory / file user is currently in \n",
    "os.getcwd()"
   ]
  },
  {
   "cell_type": "code",
   "execution_count": 4,
   "metadata": {},
   "outputs": [
    {
     "data": {
      "text/plain": [
       "['.git',\n",
       " '.ipynb_checkpoints',\n",
       " 'basic_python_program.ipynb',\n",
       " 'fantasy_inventory.py',\n",
       " 'Untitled.ipynb']"
      ]
     },
     "execution_count": 4,
     "metadata": {},
     "output_type": "execute_result"
    }
   ],
   "source": [
    "#this function will list all the files in the current working directory this will return a list\n",
    "os.listdir()"
   ]
  },
  {
   "cell_type": "code",
   "execution_count": 5,
   "metadata": {},
   "outputs": [
    {
     "name": "stdout",
     "output_type": "stream",
     "text": [
      ".git\n",
      ".ipynb_checkpoints\n",
      "basic_python_program.ipynb\n",
      "fantasy_inventory.py\n",
      "Untitled.ipynb\n"
     ]
    }
   ],
   "source": [
    "for i in os.listdir():\n",
    "    print(i)"
   ]
  },
  {
   "cell_type": "code",
   "execution_count": 19,
   "metadata": {},
   "outputs": [],
   "source": [
    "# make a text file and write it to my cwdir \n",
    "\n",
    "# create a file object that takes a name and an action\n",
    "my_file = open(\"my_text.txt\",\"w+\")\n",
    "# loop though our file and write \n",
    "for i in range(25):\n",
    "    my_file.write(f\"This is line: {i+1}\\n\")\n",
    "my_file.close()    # all files must be cloesed after opening "
   ]
  },
  {
   "cell_type": "code",
   "execution_count": 20,
   "metadata": {},
   "outputs": [
    {
     "name": "stdout",
     "output_type": "stream",
     "text": [
      "This is line: 1\n",
      "This is line: 2\n",
      "This is line: 3\n",
      "This is line: 4\n",
      "This is line: 5\n",
      "This is line: 6\n",
      "This is line: 7\n",
      "This is line: 8\n",
      "This is line: 9\n",
      "This is line: 10\n",
      "This is line: 11\n",
      "This is line: 12\n",
      "This is line: 13\n",
      "This is line: 14\n",
      "This is line: 15\n",
      "This is line: 16\n",
      "This is line: 17\n",
      "This is line: 18\n",
      "This is line: 19\n",
      "This is line: 20\n",
      "This is line: 21\n",
      "This is line: 22\n",
      "This is line: 23\n",
      "This is line: 24\n",
      "This is line: 25\n",
      "\n"
     ]
    }
   ],
   "source": [
    "# reading a file tha has been wrote \n",
    "# will write whole file out \n",
    "read_file = open(\"my_text.txt\",\"r\")\n",
    "if read_file.mode == \"r\":\n",
    "    content = read_file.read()\n",
    "    print(content)"
   ]
  },
  {
   "cell_type": "code",
   "execution_count": 22,
   "metadata": {},
   "outputs": [
    {
     "name": "stdout",
     "output_type": "stream",
     "text": [
      "This is line: 1\n",
      "\n",
      "This is line: 2\n",
      "\n",
      "This is line: 3\n",
      "\n",
      "This is line: 4\n",
      "\n",
      "This is line: 5\n",
      "\n",
      "This is line: 6\n",
      "\n",
      "This is line: 7\n",
      "\n",
      "This is line: 8\n",
      "\n",
      "This is line: 9\n",
      "\n",
      "This is line: 10\n",
      "\n",
      "This is line: 11\n",
      "\n",
      "This is line: 12\n",
      "\n",
      "This is line: 13\n",
      "\n",
      "This is line: 14\n",
      "\n",
      "This is line: 15\n",
      "\n",
      "This is line: 16\n",
      "\n",
      "This is line: 17\n",
      "\n",
      "This is line: 18\n",
      "\n",
      "This is line: 19\n",
      "\n",
      "This is line: 20\n",
      "\n",
      "This is line: 21\n",
      "\n",
      "This is line: 22\n",
      "\n",
      "This is line: 23\n",
      "\n",
      "This is line: 24\n",
      "\n",
      "This is line: 25\n",
      "\n"
     ]
    }
   ],
   "source": [
    "# will return the line one by one \n",
    "read_file= open('my_text.txt','r')\n",
    "f1 = read_file.readlines()\n",
    "for i in f1:\n",
    "    print(i)"
   ]
  },
  {
   "cell_type": "code",
   "execution_count": 57,
   "metadata": {},
   "outputs": [],
   "source": [
    "# make a program that save birthdays into a text file \n",
    "# then use function to read and write them \n",
    "#  added doc string\n",
    "\n",
    "# prototype project program for storing birthdays and saving to files \n",
    "def get_Bday(bday):\n",
    "    \"\"\"\n",
    "     This will fill a dictonary of names and birthdays \n",
    "    \n",
    "    \"\"\"\n",
    "    while True:\n",
    "        name = \"\"\n",
    "\n",
    "        print(\"Enter a name or leave blank to quit:\")\n",
    "        name = input()\n",
    "        if(name == \"\"):\n",
    "            break\n",
    "        elif(name != \"\"):\n",
    "            print(f\"what is the month and day of birth:\")\n",
    "            birth_info = input()\n",
    "        bday[name] = birth_info    \n",
    "        \n",
    "def write_Bdays(file, dic):\n",
    "    \"\"\"\n",
    "     This function will take in a file and a dictionary , then write the dict to file \n",
    "    \"\"\"\n",
    "    pass\n",
    "\n",
    "def make_file():\n",
    "    \"\"\"\n",
    "     This function will make a file \n",
    "    \n",
    "    \"\"\"\n",
    "    print(\"Name the file u wish to create\")\n",
    "    fname = input()\n",
    "    exten = \".txt\"\n",
    "    return f\"{fname}{exten}\""
   ]
  },
  {
   "cell_type": "code",
   "execution_count": 56,
   "metadata": {},
   "outputs": [
    {
     "name": "stdout",
     "output_type": "stream",
     "text": [
      "Name the file u wish to create\n",
      "card\n",
      "card.txt\n"
     ]
    }
   ],
   "source": [
    "f2 = make_file()\n",
    "print(f2)"
   ]
  },
  {
   "cell_type": "code",
   "execution_count": 40,
   "metadata": {},
   "outputs": [
    {
     "name": "stdout",
     "output_type": "stream",
     "text": [
      "Enter a name or leave blank to quit:\n",
      "dion\n",
      "what is the month and day of birth:\n",
      "april 3\n",
      "Enter a name or leave blank to quit:\n",
      "\n"
     ]
    }
   ],
   "source": [
    "my_dic = {}\n",
    "get_Bday(my_dic)"
   ]
  },
  {
   "cell_type": "code",
   "execution_count": 41,
   "metadata": {},
   "outputs": [
    {
     "name": "stdout",
     "output_type": "stream",
     "text": [
      "{'dion': 'april 3'}\n"
     ]
    }
   ],
   "source": [
    "print(my_dic)"
   ]
  },
  {
   "cell_type": "code",
   "execution_count": 42,
   "metadata": {},
   "outputs": [
    {
     "data": {
      "text/plain": [
       "1"
      ]
     },
     "execution_count": 42,
     "metadata": {},
     "output_type": "execute_result"
    }
   ],
   "source": [
    "len(my_dic)"
   ]
  },
  {
   "cell_type": "code",
   "execution_count": 44,
   "metadata": {},
   "outputs": [],
   "source": [
    "my_bday = open(\"bday_ex.txt\",\"w+\")"
   ]
  },
  {
   "cell_type": "code",
   "execution_count": 45,
   "metadata": {},
   "outputs": [],
   "source": [
    "# this will be my write to file first time \n",
    "count = 0\n",
    "for k,v in my_dic.items():\n",
    "    count += 1\n",
    "    my_bday.writelines(f\"Line {count}, {k}, {v}\")\n",
    "my_bday.close()    "
   ]
  },
  {
   "cell_type": "code",
   "execution_count": 51,
   "metadata": {},
   "outputs": [
    {
     "name": "stdout",
     "output_type": "stream",
     "text": [
      "Line 1, dion, april 3\n"
     ]
    }
   ],
   "source": [
    "# this will be my function that read the files to me \n",
    "bday = open(\"bday_ex.txt\",\"r\")\n",
    "f2 = bday.readlines()\n",
    "for read in f2:\n",
    "    print(read)\n",
    "bday.close()    "
   ]
  },
  {
   "cell_type": "code",
   "execution_count": null,
   "metadata": {},
   "outputs": [],
   "source": [
    "# this function will be what appends new names and bdays to file\n",
    "b = open(\"bday_ex.txt\",\"a+\")\n",
    "get_Bday(my_dic)\n"
   ]
  }
 ],
 "metadata": {
  "kernelspec": {
   "display_name": "Python 3",
   "language": "python",
   "name": "python3"
  },
  "language_info": {
   "codemirror_mode": {
    "name": "ipython",
    "version": 3
   },
   "file_extension": ".py",
   "mimetype": "text/x-python",
   "name": "python",
   "nbconvert_exporter": "python",
   "pygments_lexer": "ipython3",
   "version": "3.7.6"
  }
 },
 "nbformat": 4,
 "nbformat_minor": 4
}
