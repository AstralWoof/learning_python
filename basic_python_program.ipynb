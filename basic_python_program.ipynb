{
 "cells": [
  {
   "cell_type": "code",
   "execution_count": null,
   "metadata": {},
   "outputs": [],
   "source": [
    "# Review of python 7/7/21\n",
    "#basic data type and input and output "
   ]
  },
  {
   "cell_type": "code",
   "execution_count": null,
   "metadata": {
    "scrolled": true
   },
   "outputs": [],
   "source": [
    "# in python varaible do not have to be predefined \n",
    "name = \" \"\n",
    "print(\"Hello what is your name \")\n",
    "name = input() # will allow you to get input from user\n",
    "print(f\"Hello {name} how are you today\") # using print f u can place varible right into print function"
   ]
  },
  {
   "cell_type": "code",
   "execution_count": null,
   "metadata": {},
   "outputs": [],
   "source": [
    "# using random libary to make a guessing game between 1-10\n",
    "# to control the flow of the program a while loop is used and if statments \n",
    "import random \n",
    "\n",
    "user_Num = \" \"\n",
    "rand_num = random.randint(1,10)\n",
    "print(rand_num)\n",
    "while user_Num != rand_num:\n",
    "    print(\"Guess a random number between 1-10\")\n",
    "    user_Num = input()\n",
    "    if int(user_Num) == rand_num:\n",
    "        print(f\"Congratulation {user_Num}, was the right number\")\n",
    "        break;\n",
    "    if int(user_Num) > rand_num:\n",
    "        print(f\"{user_Num} is too large\")\n",
    "    elif int(user_Num)<rand_num:\n",
    "        print(f\"{user_Num} is too low\")\n",
    "        "
   ]
  },
  {
   "cell_type": "code",
   "execution_count": 3,
   "metadata": {},
   "outputs": [],
   "source": [
    "# functions \n",
    "#function are used to chunk up a program \n",
    "\n",
    "def gretting(name):# put a string in this function and it will return \n",
    "    return(f\"Good day {name}\")\n",
    " \n",
    "# this function will take two paramtres and multiply them\n",
    "def multi(num1, num2):\n",
    "    return num1 *num2\n",
    "\n",
    "# Fizz Bizz generator\n",
    "def fizzBizz(max_num):\n",
    "    i = 0 #starts at 0\n",
    "    while i <= max_num:# max number will go to what ever the user put in the function\n",
    "        if(i%3==0 and i%5==0):\n",
    "            print(\"FizzBizz\")# will print fizBizz if number is divided by 3 and 5\n",
    "        elif(i%3 == 0):\n",
    "            print(\"Fizz\") # if divisable by 3 print fizz\n",
    "        elif(i%5 == 0):\n",
    "            print(\"Bizz\")# if divisable by 5 print bizz\n",
    "        else:\n",
    "            print(str(i)) # else print the number as is \n",
    "        i+= 1 # increment the counter by 1   \n",
    "def say_Hello():\n",
    "    print(\"Enter a name:\")\n",
    "    name = input()\n",
    "    print(f\"Hello {name}\")"
   ]
  },
  {
   "cell_type": "code",
   "execution_count": 4,
   "metadata": {},
   "outputs": [
    {
     "data": {
      "text/plain": [
       "'Good day Dion'"
      ]
     },
     "execution_count": 4,
     "metadata": {},
     "output_type": "execute_result"
    }
   ],
   "source": [
    "gretting(\"Dion\")\n"
   ]
  },
  {
   "cell_type": "code",
   "execution_count": 5,
   "metadata": {},
   "outputs": [
    {
     "data": {
      "text/plain": [
       "20"
      ]
     },
     "execution_count": 5,
     "metadata": {},
     "output_type": "execute_result"
    }
   ],
   "source": [
    "multi(4,5)"
   ]
  },
  {
   "cell_type": "code",
   "execution_count": null,
   "metadata": {},
   "outputs": [],
   "source": [
    "fizzBizz(15)"
   ]
  },
  {
   "cell_type": "code",
   "execution_count": null,
   "metadata": {},
   "outputs": [],
   "source": [
    "say_Hello()"
   ]
  },
  {
   "cell_type": "code",
   "execution_count": 19,
   "metadata": {},
   "outputs": [
    {
     "name": "stdout",
     "output_type": "stream",
     "text": [
      "Enter in the item to add to your list:1/5\n",
      "apples\n",
      "Enter in the item to add to your list:2/5\n",
      "oranges\n",
      "Enter in the item to add to your list:3/5\n",
      "bananas\n",
      "Enter in the item to add to your list:4/5\n",
      "pears\n",
      "Enter in the item to add to your list:5/5\n",
      "pinapples\n"
     ]
    }
   ],
   "source": [
    "# List \n",
    "#list are like array in c++ they are usful for storing data and accessing it \n",
    "\n",
    "my_cart= [] # create a clear list\n",
    "items= \"\" # let my items be a empty string\n",
    "for i in range(5): # make a range for how many items to add to list\n",
    "    print(f\"Enter in the item to add to your list:{i+1}/5\")# display the number of items currently added\n",
    "    items = input()\n",
    "    my_cart.append(items)"
   ]
  },
  {
   "cell_type": "code",
   "execution_count": 20,
   "metadata": {},
   "outputs": [
    {
     "name": "stdout",
     "output_type": "stream",
     "text": [
      "['apples', 'oranges', 'bananas', 'pears', 'pinapples']\n"
     ]
    }
   ],
   "source": [
    "#Will print all the function in my list\n",
    "print(my_cart)"
   ]
  },
  {
   "cell_type": "code",
   "execution_count": 21,
   "metadata": {},
   "outputs": [
    {
     "data": {
      "text/plain": [
       "5"
      ]
     },
     "execution_count": 21,
     "metadata": {},
     "output_type": "execute_result"
    }
   ],
   "source": [
    "# the len function return the total number of items in a list\n",
    "len(my_cart)"
   ]
  },
  {
   "cell_type": "code",
   "execution_count": 22,
   "metadata": {},
   "outputs": [
    {
     "data": {
      "text/plain": [
       "['oranges', 'bananas', 'pears']"
      ]
     },
     "execution_count": 22,
     "metadata": {},
     "output_type": "execute_result"
    }
   ],
   "source": [
    "#will return list at spefic index\n",
    "my_cart[1:4]"
   ]
  },
  {
   "cell_type": "code",
   "execution_count": 26,
   "metadata": {},
   "outputs": [
    {
     "name": "stdout",
     "output_type": "stream",
     "text": [
      "Spades\n",
      "Hearts\n",
      "Diamons\n",
      "Clover\n"
     ]
    }
   ],
   "source": [
    "# Tuples \n",
    "#tuples are data types that dont allow the data to be modified after it has been initalzied\n",
    "\n",
    "card_set = (\"Spades\", \"Hearts\",\"Diamons\",\"Clover\")\n",
    "for i in card_set:\n",
    "    print(i)\n",
    "    "
   ]
  },
  {
   "cell_type": "code",
   "execution_count": 28,
   "metadata": {},
   "outputs": [],
   "source": [
    "def print_list(lists):\n",
    "    for i in lists:\n",
    "        print(i)"
   ]
  },
  {
   "cell_type": "code",
   "execution_count": 29,
   "metadata": {},
   "outputs": [
    {
     "name": "stdout",
     "output_type": "stream",
     "text": [
      "apples\n",
      "oranges\n",
      "bananas\n",
      "pears\n",
      "pinapples\n"
     ]
    }
   ],
   "source": [
    "print_list(my_cart)"
   ]
  },
  {
   "cell_type": "code",
   "execution_count": 30,
   "metadata": {},
   "outputs": [],
   "source": [
    "# This function will print a name out veritcal surronded by stars \n",
    "def vertical_name(name):\n",
    "    for i in name:\n",
    "        print(f\"***{i}****\")"
   ]
  },
  {
   "cell_type": "code",
   "execution_count": 32,
   "metadata": {},
   "outputs": [
    {
     "name": "stdout",
     "output_type": "stream",
     "text": [
      "***D****\n",
      "***i****\n",
      "***o****\n",
      "***n****\n",
      "*** ****\n",
      "***S****\n",
      "***a****\n",
      "***p****\n",
      "***p****\n"
     ]
    }
   ],
   "source": [
    "vertical_name(\"Dion Sapp\")"
   ]
  },
  {
   "cell_type": "code",
   "execution_count": 24,
   "metadata": {},
   "outputs": [],
   "source": [
    "#Dicitonary \n",
    "# is another data type that allows use to store data with a key and value format\n",
    "\n",
    "travel_log = {\"Dion\":{\"America\":[\"Missouri\",\"New Jersey\",\"New York\"],\"Jamcia\": \"Kingston\"},\n",
    "                     \"John\":{\"Amercia\":[\"Flordia\",\"Organ\",\"New York\"],\"United Kingdom\": \"England\"},\n",
    "                            \"Chris\":{\"America\":[\"Califonia\",\"Virgina\",\"flordia\",\"New york\"],\"Untied Kingdom\": \"Iceland\"}} \n",
    "my_inv = {\"gold coin\": 69, \"Rope of Escape\":1 , \"Iron sword\":1 ,\"Bow of Elf King\": 1}"
   ]
  },
  {
   "cell_type": "code",
   "execution_count": 42,
   "metadata": {},
   "outputs": [
    {
     "name": "stdout",
     "output_type": "stream",
     "text": [
      "Dion,{'America': ['Missouri', 'New Jersey', 'New York'], 'Jamcia': 'Kingston'}\n",
      "John,{'Amercia': ['Flordia', 'Organ', 'New York'], 'United Kingdom': 'England'}\n",
      "Chris,{'America': ['Califonia', 'Virgina', 'flordia', 'New york'], 'Untied Kingdom': 'Iceland'}\n"
     ]
    }
   ],
   "source": [
    "# this will sort through a dictonary and return a list of items \n",
    "for k,v in travel_log.items():\n",
    "    print(f\"{k},{v}\")"
   ]
  },
  {
   "cell_type": "code",
   "execution_count": 51,
   "metadata": {},
   "outputs": [
    {
     "name": "stdout",
     "output_type": "stream",
     "text": [
      "Enter a name ('leave blank to quit')\n",
      "Dion\n",
      "I do not have info on that personDion\n",
      "What is there birthday? \n",
      "April 3\n",
      "Birthday database been updated....\n",
      "Enter a name ('leave blank to quit')\n",
      "Dion\n",
      "April 3 is the birthday of Dion\n",
      "Enter a name ('leave blank to quit')\n",
      "\n"
     ]
    }
   ],
   "source": [
    "# Dictonary accessing and storing data in a dictonary \n",
    "birthday = {\"Alice\": \"April 1\", \"chris\": \"May 23\", \"Carlos\": \"Dec 16\"}\n",
    "# loop through programm till user quit\n",
    "while True:\n",
    "    print(\"Enter a name ('leave blank to quit')\")\n",
    "    name = input() #is used to access the key of the dictonary\n",
    "    if name == \"\":\n",
    "        break;# break if the user left the input as blank\n",
    "    if name in birthday: # if name is in birthday dictonary do something \n",
    "        print(birthday[name] + \" is the birthday of \"+ name)\n",
    "    else:# if not in the add to dictonary \n",
    "        print(\"I do not have info on that person\"+ name)\n",
    "        print(\"What is there birthday? \")\n",
    "        bday = input()\n",
    "        birthday[name] = bday\n",
    "        print(\"Birthday database been updated....\")"
   ]
  }
 ],
 "metadata": {
  "kernelspec": {
   "display_name": "Python 3",
   "language": "python",
   "name": "python3"
  },
  "language_info": {
   "codemirror_mode": {
    "name": "ipython",
    "version": 3
   },
   "file_extension": ".py",
   "mimetype": "text/x-python",
   "name": "python",
   "nbconvert_exporter": "python",
   "pygments_lexer": "ipython3",
   "version": "3.7.6"
  }
 },
 "nbformat": 4,
 "nbformat_minor": 4
}
